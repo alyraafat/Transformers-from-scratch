{
 "cells": [
  {
   "cell_type": "code",
   "execution_count": 1,
   "id": "c011a5fc-1544-4096-8646-bef11bd7622d",
   "metadata": {
    "tags": []
   },
   "outputs": [],
   "source": [
    "import numpy as np\n",
    "import math"
   ]
  },
  {
   "cell_type": "code",
   "execution_count": 3,
   "id": "cdde67a9-f029-495d-9df5-5709387cb2c9",
   "metadata": {},
   "outputs": [],
   "source": [
    "L, d_k, d_v = 4,8,8\n",
    "q = np.random.randn(L,d_k)\n",
    "k = np.random.randn(L,d_k)\n",
    "v = np.random.randn(L,d_v)"
   ]
  },
  {
   "cell_type": "code",
   "execution_count": 4,
   "id": "d4e9ffb4-4404-4755-8a67-630d59ae95f6",
   "metadata": {
    "tags": []
   },
   "outputs": [
    {
     "data": {
      "text/plain": [
       "array([[-1.43314657, -0.68958429, -0.86108124,  0.09508489,  1.4236755 ,\n",
       "        -0.18503826, -2.06543922, -0.72425694],\n",
       "       [ 0.01381426, -0.05797834,  0.17358011,  0.18137392,  1.40001165,\n",
       "        -1.11316294,  1.30004025, -1.4833429 ],\n",
       "       [ 1.2015744 ,  0.88562765, -1.26675785,  1.90983526,  1.51828946,\n",
       "        -0.6215344 , -0.84381093,  0.27898317],\n",
       "       [-0.50455575,  2.19433688, -1.04592851, -0.0990632 , -2.91957275,\n",
       "        -1.24198651, -0.4260315 ,  0.54103664]])"
      ]
     },
     "execution_count": 4,
     "metadata": {},
     "output_type": "execute_result"
    }
   ],
   "source": [
    "q"
   ]
  },
  {
   "cell_type": "code",
   "execution_count": 5,
   "id": "ee3b64e2-8d68-4259-b728-061ad07d4f59",
   "metadata": {
    "tags": []
   },
   "outputs": [
    {
     "data": {
      "text/plain": [
       "array([[-0.89573882,  0.59575872,  0.62932483,  1.3706639 ,  1.99202557,\n",
       "        -1.81906467,  0.59556153, -1.43379392],\n",
       "       [ 0.70779064, -0.98869881,  0.46194471,  0.3435982 ,  1.04767303,\n",
       "        -0.50423831, -0.84448408, -0.33698132],\n",
       "       [-1.21415259, -0.18845878, -0.56447991, -1.59124802,  0.28647738,\n",
       "         2.07454014, -0.57179019,  1.48130302],\n",
       "       [ 0.67573788, -0.20859519, -0.94975811,  0.71722781, -0.29003071,\n",
       "         1.12675774, -0.71884537, -0.08917012]])"
      ]
     },
     "execution_count": 5,
     "metadata": {},
     "output_type": "execute_result"
    }
   ],
   "source": [
    "k"
   ]
  },
  {
   "cell_type": "code",
   "execution_count": 6,
   "id": "047bce08-bfa5-4315-a7bc-1c38c14f4c5e",
   "metadata": {
    "tags": []
   },
   "outputs": [
    {
     "data": {
      "text/plain": [
       "array([[-1.05800722, -0.96276342, -0.95349055,  0.0885535 ,  1.96479734,\n",
       "        -0.71011295,  0.28629564,  1.98846157],\n",
       "       [ 0.43508605,  0.50894494,  0.26250843,  0.83530551, -0.35779131,\n",
       "        -0.87981717, -0.59658486,  1.56959687],\n",
       "       [-0.41695546, -0.52716846, -0.07328311,  0.58373222, -0.25523755,\n",
       "         2.34150665, -0.25622958,  1.02477756],\n",
       "       [-0.55918959, -0.07295214,  0.97466163,  0.21109998, -0.05923678,\n",
       "        -0.62107704, -1.1790067 , -0.12794776]])"
      ]
     },
     "execution_count": 6,
     "metadata": {},
     "output_type": "execute_result"
    }
   ],
   "source": [
    "v"
   ]
  },
  {
   "cell_type": "markdown",
   "id": "8b5031ec-6aee-44cf-846f-bdc997a342ff",
   "metadata": {},
   "source": [
    "# Self Attention"
   ]
  },
  {
   "cell_type": "code",
   "execution_count": 8,
   "id": "b16ddf12-b90e-4eb0-a454-8b120813d97c",
   "metadata": {
    "tags": []
   },
   "outputs": [
    {
     "data": {
      "text/plain": [
       "(1.3856409547521307, 1.0045444160234271, 13.552189614150734)"
      ]
     },
     "execution_count": 8,
     "metadata": {},
     "output_type": "execute_result"
    }
   ],
   "source": [
    "q.var(), k.var(), (q @ k.T).var()"
   ]
  },
  {
   "cell_type": "markdown",
   "id": "e4a4544a-73a8-4c8c-ad82-d05c5a976b94",
   "metadata": {},
   "source": [
    "as you can see the variance of the matrix-matrix multiplication is much higher than the varaince of each matrix on its own \n",
    "so that's why we need to scale the multiplication"
   ]
  },
  {
   "cell_type": "code",
   "execution_count": 9,
   "id": "d2448f94-d405-48ca-a3b9-27bf8a9c747b",
   "metadata": {
    "tags": []
   },
   "outputs": [
    {
     "data": {
      "text/plain": [
       "(1.3856409547521307, 1.0045444160234271, 1.6940237017688413)"
      ]
     },
     "execution_count": 9,
     "metadata": {},
     "output_type": "execute_result"
    }
   ],
   "source": [
    "scaled = (q @ k.T) / math.sqrt(d_k)\n",
    "q.var(), k.var(), scaled.var()"
   ]
  },
  {
   "cell_type": "markdown",
   "id": "d75eaed6-3ac2-47ed-a041-072af90187b6",
   "metadata": {},
   "source": [
    "## Masking"
   ]
  },
  {
   "cell_type": "code",
   "execution_count": 10,
   "id": "39e42551-3150-4ce3-95fa-f41fe0a9555a",
   "metadata": {
    "tags": []
   },
   "outputs": [
    {
     "data": {
      "text/plain": [
       "array([[1., 0., 0., 0.],\n",
       "       [1., 1., 0., 0.],\n",
       "       [1., 1., 1., 0.],\n",
       "       [1., 1., 1., 1.]])"
      ]
     },
     "execution_count": 10,
     "metadata": {},
     "output_type": "execute_result"
    }
   ],
   "source": [
    "mask = np.tril(np.ones((L,L)))\n",
    "mask"
   ]
  },
  {
   "cell_type": "code",
   "execution_count": 11,
   "id": "b78343ed-bc46-48a6-bb02-5587bd18ef65",
   "metadata": {
    "tags": []
   },
   "outputs": [],
   "source": [
    "mask[mask==0] = -np.infty\n",
    "mask[mask==1] = 0"
   ]
  },
  {
   "cell_type": "code",
   "execution_count": 12,
   "id": "9dff1c51-6dc6-4b9a-b7d5-a4e8e2c9fcda",
   "metadata": {
    "tags": []
   },
   "outputs": [
    {
     "data": {
      "text/plain": [
       "array([[  0., -inf, -inf, -inf],\n",
       "       [  0.,   0., -inf, -inf],\n",
       "       [  0.,   0.,   0., -inf],\n",
       "       [  0.,   0.,   0.,   0.]])"
      ]
     },
     "execution_count": 12,
     "metadata": {},
     "output_type": "execute_result"
    }
   ],
   "source": [
    "mask"
   ]
  },
  {
   "cell_type": "code",
   "execution_count": 13,
   "id": "faa915bb-5f33-4e58-9e22-f31d5b763505",
   "metadata": {
    "tags": []
   },
   "outputs": [
    {
     "data": {
      "text/plain": [
       "array([[ 1.21702355,        -inf,        -inf,        -inf],\n",
       "       [ 2.83753546,  0.57970533,        -inf,        -inf],\n",
       "       [ 1.59961718,  0.9081136 , -1.38185007,        -inf],\n",
       "       [-1.28015972, -1.87344409, -0.50232767, -0.06045517]])"
      ]
     },
     "execution_count": 13,
     "metadata": {},
     "output_type": "execute_result"
    }
   ],
   "source": [
    "scaled+mask"
   ]
  },
  {
   "cell_type": "markdown",
   "id": "1d9cd5af-43e1-4744-86dd-4e529f0c3346",
   "metadata": {},
   "source": [
    "## Softmax"
   ]
  },
  {
   "cell_type": "code",
   "execution_count": 31,
   "id": "13b04802-ee9a-493f-b63c-5d32f6427b78",
   "metadata": {
    "tags": []
   },
   "outputs": [
    {
     "data": {
      "text/plain": [
       "array([[ 3.40966096],\n",
       "       [ 0.68879402],\n",
       "       [ 2.05966313],\n",
       "       [-3.71638665]])"
      ]
     },
     "execution_count": 31,
     "metadata": {},
     "output_type": "execute_result"
    }
   ],
   "source": [
    "np.sum(scaled,axis=-1,keepdims=True)"
   ]
  },
  {
   "cell_type": "code",
   "execution_count": 28,
   "id": "7867f80f-1108-4feb-8a48-1ee839122f79",
   "metadata": {
    "tags": []
   },
   "outputs": [],
   "source": [
    "def softmax(x):\n",
    "    return np.exp(x)/np.sum(np.exp(x),axis=-1,keepdims=True)"
   ]
  },
  {
   "cell_type": "code",
   "execution_count": 35,
   "id": "f58d94fa-df91-4266-b792-c1429b6ba878",
   "metadata": {
    "tags": []
   },
   "outputs": [
    {
     "data": {
      "text/plain": [
       "array([[0.34304923, 0.28075445, 0.23207798, 0.14411834],\n",
       "       [0.87860741, 0.09188227, 0.00806653, 0.02144379],\n",
       "       [0.48417117, 0.2424838 , 0.02455637, 0.24878865],\n",
       "       [0.14053935, 0.07764935, 0.30591876, 0.47589254]])"
      ]
     },
     "execution_count": 35,
     "metadata": {},
     "output_type": "execute_result"
    }
   ],
   "source": [
    "attention_encoder = softmax(scaled)\n",
    "attention_encoder"
   ]
  },
  {
   "cell_type": "code",
   "execution_count": 36,
   "id": "7af00027-35e8-432b-8df8-a2d716a9021a",
   "metadata": {
    "tags": []
   },
   "outputs": [
    {
     "data": {
      "text/plain": [
       "array([[1.        , 0.        , 0.        , 0.        ],\n",
       "       [0.90532381, 0.09467619, 0.        , 0.        ],\n",
       "       [0.64452058, 0.32279039, 0.03268903, 0.        ],\n",
       "       [0.14053935, 0.07764935, 0.30591876, 0.47589254]])"
      ]
     },
     "execution_count": 36,
     "metadata": {},
     "output_type": "execute_result"
    }
   ],
   "source": [
    "attention_decoder = softmax(scaled+mask)\n",
    "attention_decoder"
   ]
  },
  {
   "cell_type": "code",
   "execution_count": 37,
   "id": "a810a60d-c592-492c-a305-4a8da5f20cd4",
   "metadata": {
    "tags": []
   },
   "outputs": [
    {
     "data": {
      "text/plain": [
       "array([[-1.05800722, -0.96276342, -0.95349055,  0.0885535 ,  1.96479734,\n",
       "        -0.71011295,  0.28629564,  1.98846157],\n",
       "       [-0.91664684, -0.82342767, -0.8383644 ,  0.15925314,  1.74490349,\n",
       "        -0.7261799 ,  0.20270788,  1.94880505],\n",
       "       [-0.5550957 , -0.47347093, -0.53220464,  0.34578479,  1.14251726,\n",
       "        -0.66513736, -0.01642433,  1.82175417],\n",
       "       [-0.50857615, -0.291775  ,  0.32779619,  0.35634172,  0.14207678,\n",
       "         0.25262883, -0.64555455,  0.65394457]])"
      ]
     },
     "execution_count": 37,
     "metadata": {},
     "output_type": "execute_result"
    }
   ],
   "source": [
    "self_attention = attention_decoder @ v\n",
    "self_attention"
   ]
  },
  {
   "cell_type": "markdown",
   "id": "6b773eab-c179-42a2-93ca-2ac33d1d3d37",
   "metadata": {},
   "source": [
    "## Let's pipeline it into a function"
   ]
  },
  {
   "cell_type": "code",
   "execution_count": 46,
   "id": "ec3e6bea-980b-4129-9520-56d7a3472df0",
   "metadata": {
    "tags": []
   },
   "outputs": [],
   "source": [
    "def softmax(x):\n",
    "    return np.exp(x)/np.sum(np.exp(x),axis=-1,keepdims=True)\n",
    "\n",
    "def scaled_dot_product_attention(q,k,v,mask=False):\n",
    "    L,d_k = k.shape\n",
    "    scaled = (q @ k.T) / math.sqrt(d_k)\n",
    "    if mask:\n",
    "        mask_mat = np.tril(np.ones((L,L)))\n",
    "        mask_mat[mask_mat==0] = -np.infty\n",
    "        mask_mat[mask_mat==1] = 0\n",
    "        scaled += mask_mat\n",
    "    return softmax(scaled) @ v"
   ]
  },
  {
   "cell_type": "code",
   "execution_count": 47,
   "id": "796d7e06-8ec6-4113-b301-3aa7e270584d",
   "metadata": {
    "tags": []
   },
   "outputs": [
    {
     "data": {
      "text/plain": [
       "array([[-0.41815188, -0.32024463, -0.12993457,  0.43078872,  0.50579859,\n",
       "        -0.03671273, -0.29866209,  1.3422002 ],\n",
       "       [-0.90495082, -0.80494485, -0.7933147 ,  0.163789  ,  1.69008169,\n",
       "        -0.69918051,  0.16937664,  1.8968179 ],\n",
       "       [-0.55611421, -0.3738264 , -0.15731342,  0.31227673,  0.84353449,\n",
       "        -0.65417565, -0.30566163,  1.33669046],\n",
       "       [-0.50857615, -0.291775  ,  0.32779619,  0.35634172,  0.14207678,\n",
       "         0.25262883, -0.64555455,  0.65394457]])"
      ]
     },
     "execution_count": 47,
     "metadata": {},
     "output_type": "execute_result"
    }
   ],
   "source": [
    "self_attention_func_encoder = scaled_dot_product_attention(q,k,v)\n",
    "self_attention_func_encoder"
   ]
  },
  {
   "cell_type": "code",
   "execution_count": 48,
   "id": "545b6bb7-c2d2-45f5-9b61-ae9efee360a1",
   "metadata": {
    "tags": []
   },
   "outputs": [
    {
     "data": {
      "text/plain": [
       "array([[ True,  True,  True,  True,  True,  True,  True,  True],\n",
       "       [ True,  True,  True,  True,  True,  True,  True,  True],\n",
       "       [ True,  True,  True,  True,  True,  True,  True,  True],\n",
       "       [ True,  True,  True,  True,  True,  True,  True,  True]])"
      ]
     },
     "execution_count": 48,
     "metadata": {},
     "output_type": "execute_result"
    }
   ],
   "source": [
    "self_attention_func_encoder == attention_encoder @ v"
   ]
  },
  {
   "cell_type": "code",
   "execution_count": 49,
   "id": "d61e66a0-c8c2-4c72-bb0b-129ad3a1104e",
   "metadata": {
    "tags": []
   },
   "outputs": [
    {
     "data": {
      "text/plain": [
       "array([[-1.05800722, -0.96276342, -0.95349055,  0.0885535 ,  1.96479734,\n",
       "        -0.71011295,  0.28629564,  1.98846157],\n",
       "       [-0.91664684, -0.82342767, -0.8383644 ,  0.15925314,  1.74490349,\n",
       "        -0.7261799 ,  0.20270788,  1.94880505],\n",
       "       [-0.5550957 , -0.47347093, -0.53220464,  0.34578479,  1.14251726,\n",
       "        -0.66513736, -0.01642433,  1.82175417],\n",
       "       [-0.50857615, -0.291775  ,  0.32779619,  0.35634172,  0.14207678,\n",
       "         0.25262883, -0.64555455,  0.65394457]])"
      ]
     },
     "execution_count": 49,
     "metadata": {},
     "output_type": "execute_result"
    }
   ],
   "source": [
    "self_attention_func_decoder = scaled_dot_product_attention(q,k,v,mask=True)\n",
    "self_attention_func_decoder"
   ]
  },
  {
   "cell_type": "code",
   "execution_count": 50,
   "id": "bbaacaca-dc12-4664-a0e8-fc7954274836",
   "metadata": {
    "tags": []
   },
   "outputs": [
    {
     "data": {
      "text/plain": [
       "array([[ True,  True,  True,  True,  True,  True,  True,  True],\n",
       "       [ True,  True,  True,  True,  True,  True,  True,  True],\n",
       "       [ True,  True,  True,  True,  True,  True,  True,  True],\n",
       "       [ True,  True,  True,  True,  True,  True,  True,  True]])"
      ]
     },
     "execution_count": 50,
     "metadata": {},
     "output_type": "execute_result"
    }
   ],
   "source": [
    "self_attention_func_decoder == attention_decoder @ v"
   ]
  },
  {
   "cell_type": "markdown",
   "id": "b2eb5854-aa77-42f4-a0f4-4f5d0a4fe169",
   "metadata": {},
   "source": [
    "# Multi-Head Attention"
   ]
  },
  {
   "cell_type": "code",
   "execution_count": 7,
   "id": "abddb7da-3b28-4e2f-8c7d-24b577f3b520",
   "metadata": {
    "tags": []
   },
   "outputs": [],
   "source": [
    "import torch\n",
    "import torch.nn as nn\n",
    "import torch.nn.functional as F"
   ]
  },
  {
   "cell_type": "code",
   "execution_count": 8,
   "id": "359644be-7ba1-475d-9490-4e062fd98ac1",
   "metadata": {
    "tags": []
   },
   "outputs": [],
   "source": [
    "sequence_length = 4\n",
    "batch_size = 1\n",
    "input_dim = 512\n",
    "d_model = 512\n",
    "x = torch.randn((batch_size, sequence_length, input_dim))"
   ]
  },
  {
   "cell_type": "code",
   "execution_count": 9,
   "id": "3aa1b6fb-3025-4408-ad47-e3bf9a611861",
   "metadata": {
    "tags": []
   },
   "outputs": [
    {
     "data": {
      "text/plain": [
       "tensor([[[-0.0077,  0.5975, -0.4244,  ..., -1.5624, -0.7537, -0.4539],\n",
       "         [ 1.0519,  1.9098, -0.9005,  ...,  1.0319,  0.1785, -0.2727],\n",
       "         [ 0.1990,  0.5178, -0.7520,  ...,  1.2677, -1.2232,  0.9385],\n",
       "         [ 1.2867, -0.1860, -0.7186,  ..., -0.2826,  0.1837,  0.4568]]])"
      ]
     },
     "execution_count": 9,
     "metadata": {},
     "output_type": "execute_result"
    }
   ],
   "source": [
    "x"
   ]
  },
  {
   "cell_type": "code",
   "execution_count": 10,
   "id": "1542602a-8305-4197-8186-92fc6dafa09d",
   "metadata": {
    "tags": []
   },
   "outputs": [
    {
     "data": {
      "text/plain": [
       "torch.Size([1, 4, 512])"
      ]
     },
     "execution_count": 10,
     "metadata": {},
     "output_type": "execute_result"
    }
   ],
   "source": [
    "x.size()"
   ]
  },
  {
   "cell_type": "code",
   "execution_count": 12,
   "id": "699f1241-d238-42cb-8d68-e37e6c0865c8",
   "metadata": {
    "tags": []
   },
   "outputs": [],
   "source": [
    "qkv_layer = nn.Linear(input_dim , 3 * d_model)"
   ]
  },
  {
   "cell_type": "code",
   "execution_count": 13,
   "id": "4eecb203-9c7f-4add-9bb5-7aad2433b039",
   "metadata": {},
   "outputs": [
    {
     "data": {
      "text/plain": [
       "torch.Size([1, 4, 1536])"
      ]
     },
     "execution_count": 13,
     "metadata": {},
     "output_type": "execute_result"
    }
   ],
   "source": [
    "qkv = qkv_layer(x)\n",
    "qkv.size()"
   ]
  },
  {
   "cell_type": "code",
   "execution_count": 15,
   "id": "9de3fb95-09ad-4214-9fa8-65b75f81ccef",
   "metadata": {
    "tags": []
   },
   "outputs": [
    {
     "data": {
      "text/plain": [
       "Text(0.5, 1.0, 'qkv distribution')"
      ]
     },
     "execution_count": 15,
     "metadata": {},
     "output_type": "execute_result"
    },
    {
     "data": {
      "image/png": "[encoded data removed]",
      "text/plain": [
       "<Figure size 640x480 with 1 Axes>"
      ]
     },
     "metadata": {},
     "output_type": "display_data"
    }
   ],
   "source": [
    "import matplotlib.pyplot as plt\n",
    "y_val = torch.histc(qkv, bins=200, min=-3, max=3)\n",
    "x_val = np.arange(-1, 1, 0.01) * 3\n",
    "plt.bar(x_val, y_val, align='center', color=['forestgreen'])\n",
    "plt.title('qkv distribution')"
   ]
  },
  {
   "cell_type": "code",
   "execution_count": 16,
   "id": "b0981c76-ba54-44bb-aad0-ef15d8bd1104",
   "metadata": {
    "tags": []
   },
   "outputs": [],
   "source": [
    "num_heads = 8\n",
    "head_dim = d_model // num_heads\n",
    "qkv = qkv.reshape(batch_size, sequence_length,num_heads,3*head_dim)"
   ]
  },
  {
   "cell_type": "code",
   "execution_count": 17,
   "id": "af44813f-9b52-4367-8b18-b2deea7ca02e",
   "metadata": {
    "tags": []
   },
   "outputs": [
    {
     "data": {
      "text/plain": [
       "torch.Size([1, 4, 8, 192])"
      ]
     },
     "execution_count": 17,
     "metadata": {},
     "output_type": "execute_result"
    }
   ],
   "source": [
    "qkv.shape"
   ]
  },
  {
   "cell_type": "code",
   "execution_count": 20,
   "id": "d1ec94f3-d9a9-4f5a-b0a5-d8d3cae7d322",
   "metadata": {
    "tags": []
   },
   "outputs": [
    {
     "data": {
      "text/plain": [
       "torch.Size([1, 8, 4, 192])"
      ]
     },
     "execution_count": 20,
     "metadata": {},
     "output_type": "execute_result"
    }
   ],
   "source": [
    "qkv = qkv.permute(0, 2, 1, 3) # [batch_size, num_heads, sequence_length, 3*head_dim]\n",
    "qkv.shape"
   ]
  },
  {
   "cell_type": "code",
   "execution_count": 21,
   "id": "4303232f-d764-4671-b583-3d078db9f464",
   "metadata": {
    "tags": []
   },
   "outputs": [],
   "source": [
    "q,k,v = qkv.chunk(3,dim=-1)"
   ]
  },
  {
   "cell_type": "code",
   "execution_count": 22,
   "id": "3a9c04e9-b767-4c33-adc8-ca3d414c8d07",
   "metadata": {
    "tags": []
   },
   "outputs": [
    {
     "data": {
      "text/plain": [
       "(torch.Size([1, 8, 4, 64]),\n",
       " torch.Size([1, 8, 4, 64]),\n",
       " torch.Size([1, 8, 4, 64]))"
      ]
     },
     "execution_count": 22,
     "metadata": {},
     "output_type": "execute_result"
    }
   ],
   "source": [
    "q.shape,k.shape,v.shape"
   ]
  },
  {
   "cell_type": "markdown",
   "id": "36b161b9-2fd2-49bd-be78-4ef03e3ae9d8",
   "metadata": {},
   "source": [
    "## Self Attention for Single Head (using pytorch)"
   ]
  },
  {
   "cell_type": "code",
   "execution_count": 23,
   "id": "f32a7220-60f1-433e-b955-90413cef7f39",
   "metadata": {
    "tags": []
   },
   "outputs": [
    {
     "data": {
      "text/plain": [
       "torch.Size([1, 8, 4, 4])"
      ]
     },
     "execution_count": 23,
     "metadata": {},
     "output_type": "execute_result"
    }
   ],
   "source": [
    "d_k = k.size()[-1]\n",
    "scaled = torch.matmul(q,k.transpose(-2,-1)) / math.sqrt(d_k)\n",
    "scaled.shape"
   ]
  },
  {
   "cell_type": "code",
   "execution_count": 27,
   "id": "937dd450-b780-4938-895e-b897c2d3f5dd",
   "metadata": {
    "tags": []
   },
   "outputs": [
    {
     "data": {
      "text/plain": [
       "torch.Size([64, 4, 8, 1])"
      ]
     },
     "execution_count": 27,
     "metadata": {},
     "output_type": "execute_result"
    }
   ],
   "source": [
    "k.T.shape"
   ]
  },
  {
   "cell_type": "code",
   "execution_count": 28,
   "id": "209262ff-47ed-4119-bb8e-0d8453f545eb",
   "metadata": {
    "tags": []
   },
   "outputs": [
    {
     "data": {
      "text/plain": [
       "torch.Size([1, 8, 64, 4])"
      ]
     },
     "execution_count": 28,
     "metadata": {},
     "output_type": "execute_result"
    }
   ],
   "source": [
    "k.transpose(-2,-1).shape"
   ]
  },
  {
   "cell_type": "code",
   "execution_count": 29,
   "id": "fdc7a981-6d7e-4401-9cb4-94eac7672a64",
   "metadata": {
    "tags": []
   },
   "outputs": [
    {
     "data": {
      "text/plain": [
       "tensor([[[[True, True, True, True],\n",
       "          [True, True, True, True],\n",
       "          [True, True, True, True],\n",
       "          ...,\n",
       "          [True, True, True, True],\n",
       "          [True, True, True, True],\n",
       "          [True, True, True, True]],\n",
       "\n",
       "         [[True, True, True, True],\n",
       "          [True, True, True, True],\n",
       "          [True, True, True, True],\n",
       "          ...,\n",
       "          [True, True, True, True],\n",
       "          [True, True, True, True],\n",
       "          [True, True, True, True]],\n",
       "\n",
       "         [[True, True, True, True],\n",
       "          [True, True, True, True],\n",
       "          [True, True, True, True],\n",
       "          ...,\n",
       "          [True, True, True, True],\n",
       "          [True, True, True, True],\n",
       "          [True, True, True, True]],\n",
       "\n",
       "         ...,\n",
       "\n",
       "         [[True, True, True, True],\n",
       "          [True, True, True, True],\n",
       "          [True, True, True, True],\n",
       "          ...,\n",
       "          [True, True, True, True],\n",
       "          [True, True, True, True],\n",
       "          [True, True, True, True]],\n",
       "\n",
       "         [[True, True, True, True],\n",
       "          [True, True, True, True],\n",
       "          [True, True, True, True],\n",
       "          ...,\n",
       "          [True, True, True, True],\n",
       "          [True, True, True, True],\n",
       "          [True, True, True, True]],\n",
       "\n",
       "         [[True, True, True, True],\n",
       "          [True, True, True, True],\n",
       "          [True, True, True, True],\n",
       "          ...,\n",
       "          [True, True, True, True],\n",
       "          [True, True, True, True],\n",
       "          [True, True, True, True]]]])"
      ]
     },
     "execution_count": 29,
     "metadata": {},
     "output_type": "execute_result"
    }
   ],
   "source": [
    "k.transpose(-2,-1) == k.transpose(-1,-2)"
   ]
  },
  {
   "cell_type": "code",
   "execution_count": 30,
   "id": "b799533b-1a3a-40ef-86a6-58b4f0cbff39",
   "metadata": {
    "tags": []
   },
   "outputs": [
    {
     "data": {
      "text/plain": [
       "tensor([[[[0., -inf, -inf, -inf],\n",
       "          [0., 0., -inf, -inf],\n",
       "          [0., 0., 0., -inf],\n",
       "          [0., 0., 0., 0.]],\n",
       "\n",
       "         [[0., -inf, -inf, -inf],\n",
       "          [0., 0., -inf, -inf],\n",
       "          [0., 0., 0., -inf],\n",
       "          [0., 0., 0., 0.]],\n",
       "\n",
       "         [[0., -inf, -inf, -inf],\n",
       "          [0., 0., -inf, -inf],\n",
       "          [0., 0., 0., -inf],\n",
       "          [0., 0., 0., 0.]],\n",
       "\n",
       "         [[0., -inf, -inf, -inf],\n",
       "          [0., 0., -inf, -inf],\n",
       "          [0., 0., 0., -inf],\n",
       "          [0., 0., 0., 0.]],\n",
       "\n",
       "         [[0., -inf, -inf, -inf],\n",
       "          [0., 0., -inf, -inf],\n",
       "          [0., 0., 0., -inf],\n",
       "          [0., 0., 0., 0.]],\n",
       "\n",
       "         [[0., -inf, -inf, -inf],\n",
       "          [0., 0., -inf, -inf],\n",
       "          [0., 0., 0., -inf],\n",
       "          [0., 0., 0., 0.]],\n",
       "\n",
       "         [[0., -inf, -inf, -inf],\n",
       "          [0., 0., -inf, -inf],\n",
       "          [0., 0., 0., -inf],\n",
       "          [0., 0., 0., 0.]],\n",
       "\n",
       "         [[0., -inf, -inf, -inf],\n",
       "          [0., 0., -inf, -inf],\n",
       "          [0., 0., 0., -inf],\n",
       "          [0., 0., 0., 0.]]]])"
      ]
     },
     "execution_count": 30,
     "metadata": {},
     "output_type": "execute_result"
    }
   ],
   "source": [
    "mask = torch.full(scaled.shape,fill_value=float('-inf'))\n",
    "mask = torch.triu(mask,diagonal=1)\n",
    "mask"
   ]
  },
  {
   "cell_type": "code",
   "execution_count": 31,
   "id": "13213caa-0467-4fdd-b4e6-ebde91ef9f7c",
   "metadata": {
    "tags": []
   },
   "outputs": [
    {
     "data": {
      "text/plain": [
       "tensor([[[[ 0.3352,    -inf,    -inf,    -inf],\n",
       "          [ 0.2949, -0.0765,    -inf,    -inf],\n",
       "          [ 0.0326, -0.0060,  0.2379,    -inf],\n",
       "          [ 0.0327, -0.2723, -0.4304,  0.0846]],\n",
       "\n",
       "         [[-0.2519,    -inf,    -inf,    -inf],\n",
       "          [ 0.4076, -0.0724,    -inf,    -inf],\n",
       "          [-0.0608,  0.4162,  0.0704,    -inf],\n",
       "          [-0.0329, -0.5322, -0.1339, -0.0871]],\n",
       "\n",
       "         [[ 0.2288,    -inf,    -inf,    -inf],\n",
       "          [ 0.2440,  0.1297,    -inf,    -inf],\n",
       "          [ 0.1841, -0.2532, -0.0924,    -inf],\n",
       "          [-0.0822, -0.3028,  0.1303, -0.4170]],\n",
       "\n",
       "         [[ 0.6114,    -inf,    -inf,    -inf],\n",
       "          [-0.6117,  0.2197,    -inf,    -inf],\n",
       "          [-0.2049, -0.5968,  0.1663,    -inf],\n",
       "          [ 0.7413,  0.0956, -0.1197,  0.0484]],\n",
       "\n",
       "         [[ 0.1809,    -inf,    -inf,    -inf],\n",
       "          [-0.1189, -0.3680,    -inf,    -inf],\n",
       "          [-0.0846, -0.3933, -0.5546,    -inf],\n",
       "          [ 0.1602, -0.4647,  0.2485,  0.0735]],\n",
       "\n",
       "         [[-0.2493,    -inf,    -inf,    -inf],\n",
       "          [-0.2430,  0.4269,    -inf,    -inf],\n",
       "          [-0.0236,  0.4664,  0.0440,    -inf],\n",
       "          [-0.1949,  0.4939,  0.0095, -0.2196]],\n",
       "\n",
       "         [[-0.2989,    -inf,    -inf,    -inf],\n",
       "          [-0.0672,  0.3578,    -inf,    -inf],\n",
       "          [ 0.1819,  0.4410,  0.1959,    -inf],\n",
       "          [ 0.2197, -0.2936,  0.2948, -0.2117]],\n",
       "\n",
       "         [[-0.7890,    -inf,    -inf,    -inf],\n",
       "          [-0.1814, -0.4285,    -inf,    -inf],\n",
       "          [-0.1940,  0.2811, -0.1571,    -inf],\n",
       "          [-0.2603,  0.3207, -0.2091, -0.0687]]]], grad_fn=<AddBackward0>)"
      ]
     },
     "execution_count": 31,
     "metadata": {},
     "output_type": "execute_result"
    }
   ],
   "source": [
    "scaled + mask"
   ]
  },
  {
   "cell_type": "code",
   "execution_count": 32,
   "id": "cbfb552d-bab0-43e3-b8f2-99adacb3e7bc",
   "metadata": {
    "tags": []
   },
   "outputs": [
    {
     "data": {
      "text/plain": [
       "tensor([[[[1.0000, 0.0000, 0.0000, 0.0000],\n",
       "          [0.5918, 0.4082, 0.0000, 0.0000],\n",
       "          [0.3135, 0.3016, 0.3849, 0.0000],\n",
       "          [0.2924, 0.2155, 0.1840, 0.3080]],\n",
       "\n",
       "         [[1.0000, 0.0000, 0.0000, 0.0000],\n",
       "          [0.6177, 0.3823, 0.0000, 0.0000],\n",
       "          [0.2666, 0.4295, 0.3039, 0.0000],\n",
       "          [0.2892, 0.1755, 0.2614, 0.2739]],\n",
       "\n",
       "         [[1.0000, 0.0000, 0.0000, 0.0000],\n",
       "          [0.5285, 0.4715, 0.0000, 0.0000],\n",
       "          [0.4159, 0.2686, 0.3155, 0.0000],\n",
       "          [0.2664, 0.2136, 0.3294, 0.1906]],\n",
       "\n",
       "         [[1.0000, 0.0000, 0.0000, 0.0000],\n",
       "          [0.3034, 0.6966, 0.0000, 0.0000],\n",
       "          [0.3200, 0.2162, 0.4638, 0.0000],\n",
       "          [0.4086, 0.2142, 0.1727, 0.2044]],\n",
       "\n",
       "         [[1.0000, 0.0000, 0.0000, 0.0000],\n",
       "          [0.5620, 0.4380, 0.0000, 0.0000],\n",
       "          [0.4238, 0.3113, 0.2649, 0.0000],\n",
       "          [0.2821, 0.1510, 0.3082, 0.2587]],\n",
       "\n",
       "         [[1.0000, 0.0000, 0.0000, 0.0000],\n",
       "          [0.3385, 0.6615, 0.0000, 0.0000],\n",
       "          [0.2701, 0.4409, 0.2890, 0.0000],\n",
       "          [0.1925, 0.3834, 0.2362, 0.1878]],\n",
       "\n",
       "         [[1.0000, 0.0000, 0.0000, 0.0000],\n",
       "          [0.3953, 0.6047, 0.0000, 0.0000],\n",
       "          [0.3021, 0.3915, 0.3064, 0.0000],\n",
       "          [0.3006, 0.1799, 0.3241, 0.1953]],\n",
       "\n",
       "         [[1.0000, 0.0000, 0.0000, 0.0000],\n",
       "          [0.5615, 0.4385, 0.0000, 0.0000],\n",
       "          [0.2743, 0.4411, 0.2846, 0.0000],\n",
       "          [0.1980, 0.3539, 0.2084, 0.2398]]]], grad_fn=<SoftmaxBackward0>)"
      ]
     },
     "execution_count": 32,
     "metadata": {},
     "output_type": "execute_result"
    }
   ],
   "source": [
    "F.softmax(scaled+mask,dim=-1)"
   ]
  },
  {
   "cell_type": "markdown",
   "id": "8582cf7d-cefe-4298-a362-3ddf64b4e01f",
   "metadata": {},
   "source": [
    "### Make it a Function"
   ]
  },
  {
   "cell_type": "code",
   "execution_count": 33,
   "id": "c1047c22-29c5-445e-b6b0-31509ca64df1",
   "metadata": {
    "tags": []
   },
   "outputs": [],
   "source": [
    "def scaled_dot_product(q, k, v, mask=False):\n",
    "    d_k = q.size()[-1]\n",
    "    scaled = torch.matmul(q, k.transpose(-1, -2)) / math.sqrt(d_k)\n",
    "    if mask:\n",
    "        mask_mat = torch.full(scaled.shape,fill_value=float('-inf'))\n",
    "        mask_mat = torch.triu(mask_mat,diagonal=1)\n",
    "        scaled += mask_mat\n",
    "    attention = F.softmax(scaled, dim=-1)\n",
    "    values = torch.matmul(attention, v)\n",
    "    return values, attention"
   ]
  },
  {
   "cell_type": "code",
   "execution_count": 34,
   "id": "6aa66e4f-fad9-4103-9115-b367a734077c",
   "metadata": {
    "tags": []
   },
   "outputs": [],
   "source": [
    "values, attention = scaled_dot_product(q, k, v, mask=True)"
   ]
  },
  {
   "cell_type": "code",
   "execution_count": 35,
   "id": "d37ef229-46c1-452d-88f1-b1d676a62444",
   "metadata": {
    "tags": []
   },
   "outputs": [
    {
     "data": {
      "text/plain": [
       "torch.Size([1, 8, 4, 4])"
      ]
     },
     "execution_count": 35,
     "metadata": {},
     "output_type": "execute_result"
    }
   ],
   "source": [
    "attention.shape"
   ]
  },
  {
   "cell_type": "code",
   "execution_count": 36,
   "id": "6c730eaf-13bd-49c1-ade4-43f3f323e27a",
   "metadata": {
    "tags": []
   },
   "outputs": [
    {
     "data": {
      "text/plain": [
       "torch.Size([1, 8, 4, 64])"
      ]
     },
     "execution_count": 36,
     "metadata": {},
     "output_type": "execute_result"
    }
   ],
   "source": [
    "values.shape"
   ]
  },
  {
   "cell_type": "code",
   "execution_count": 37,
   "id": "416a0c9d-cd30-4941-9cf5-4433f4ee7b5e",
   "metadata": {
    "tags": []
   },
   "outputs": [
    {
     "data": {
      "text/plain": [
       "torch.Size([1, 4, 512])"
      ]
     },
     "execution_count": 37,
     "metadata": {},
     "output_type": "execute_result"
    }
   ],
   "source": [
    "values = values.reshape(batch_size, sequence_length, num_heads * head_dim)\n",
    "values.shape"
   ]
  },
  {
   "cell_type": "code",
   "execution_count": 38,
   "id": "2bdeaed6-43cb-487f-9621-9392b8575d33",
   "metadata": {
    "tags": []
   },
   "outputs": [],
   "source": [
    "linear_layer = nn.Linear(d_model, d_model)"
   ]
  },
  {
   "cell_type": "code",
   "execution_count": 39,
   "id": "e091b06b-13fe-4dea-a8db-d7fabfbb2d6b",
   "metadata": {
    "tags": []
   },
   "outputs": [],
   "source": [
    "out = linear_layer(values)"
   ]
  },
  {
   "cell_type": "code",
   "execution_count": 40,
   "id": "99e35d1b-21b5-431d-b139-9b50277f4f29",
   "metadata": {
    "tags": []
   },
   "outputs": [
    {
     "data": {
      "text/plain": [
       "torch.Size([1, 4, 512])"
      ]
     },
     "execution_count": 40,
     "metadata": {},
     "output_type": "execute_result"
    }
   ],
   "source": [
    "out.shape"
   ]
  },
  {
   "cell_type": "markdown",
   "id": "7914bbd8-3bff-4153-b8d2-f0a70d0c8e33",
   "metadata": {},
   "source": [
    "### Multi-head Attention Class"
   ]
  },
  {
   "cell_type": "code",
   "execution_count": 46,
   "id": "42c8d015-0989-47ac-90be-4afe355c4893",
   "metadata": {
    "tags": []
   },
   "outputs": [],
   "source": [
    "class MultiheadAttention(nn.Module):\n",
    "    \n",
    "    def __init__(self,input_dim,d_model,num_heads):\n",
    "        super().__init__()\n",
    "        self.input_dim = input_dim\n",
    "        self.d_model = d_model\n",
    "        self.num_heads = num_heads\n",
    "        self.head_dim = d_model // num_heads\n",
    "        self.qkv_layer = nn.Linear(input_dim , 3 * d_model)\n",
    "        self.linear_layer = nn.Linear(d_model, d_model)\n",
    "    \n",
    "    def scaled_dot_product(self,q,k,v,mask=False):\n",
    "        return scaled_dot_product(q, k, v, mask)\n",
    "    \n",
    "    def forward(self,x,mask=False):\n",
    "        batch_size, sequence_length, input_dim = x.size()\n",
    "        print(f\"x.size(): {x.size()}\")\n",
    "        qkv = self.qkv_layer(x)\n",
    "        print(f\"qkv.size(): {qkv.size()}\")\n",
    "        qkv = qkv.reshape(batch_size, sequence_length, self.num_heads, 3 * self.head_dim)\n",
    "        print(f\"qkv.size(): {qkv.size()}\")\n",
    "        qkv = qkv.permute(0, 2, 1, 3)\n",
    "        print(f\"qkv.size(): {qkv.size()}\")\n",
    "        q, k, v = qkv.chunk(3, dim=-1)\n",
    "        print(f\"q size: {q.size()}, k size: {k.size()}, v size: {v.size()}, \")\n",
    "        values, attention = self.scaled_dot_product(q, k, v, mask)\n",
    "        print(f\"values.size(): {values.size()}, attention.size:{ attention.size()} \")\n",
    "        values = values.reshape(batch_size, sequence_length, self.num_heads * self.head_dim)\n",
    "        print(f\"values.size(): {values.size()}\")\n",
    "        out = self.linear_layer(values)\n",
    "        print(f\"out.size(): {out.size()}\")\n",
    "        return out"
   ]
  },
  {
   "cell_type": "code",
   "execution_count": 47,
   "id": "85fe7b7d-a8f1-4c68-8847-2acd675ac339",
   "metadata": {
    "tags": []
   },
   "outputs": [
    {
     "name": "stdout",
     "output_type": "stream",
     "text": [
      "x.size(): torch.Size([30, 5, 1024])\n",
      "qkv.size(): torch.Size([30, 5, 1536])\n",
      "qkv.size(): torch.Size([30, 5, 8, 192])\n",
      "qkv.size(): torch.Size([30, 8, 5, 192])\n",
      "q size: torch.Size([30, 8, 5, 64]), k size: torch.Size([30, 8, 5, 64]), v size: torch.Size([30, 8, 5, 64]), \n",
      "values.size(): torch.Size([30, 8, 5, 64]), attention.size:torch.Size([30, 8, 5, 5]) \n",
      "values.size(): torch.Size([30, 5, 512])\n",
      "out.size(): torch.Size([30, 5, 512])\n"
     ]
    }
   ],
   "source": [
    "input_dim = 1024\n",
    "d_model = 512\n",
    "num_heads = 8\n",
    "\n",
    "batch_size = 30\n",
    "sequence_length = 5\n",
    "x = torch.randn( (batch_size, sequence_length, input_dim) )\n",
    "\n",
    "model = MultiheadAttention(input_dim, d_model, num_heads)\n",
    "out = model.forward(x)"
   ]
  },
  {
   "cell_type": "code",
   "execution_count": 48,
   "id": "c9ce85da-46c7-468b-8507-2fb8bd1ac06f",
   "metadata": {
    "tags": []
   },
   "outputs": [
    {
     "name": "stdout",
     "output_type": "stream",
     "text": [
      "x.size(): torch.Size([30, 5, 1024])\n",
      "qkv.size(): torch.Size([30, 5, 1536])\n",
      "qkv.size(): torch.Size([30, 5, 8, 192])\n",
      "qkv.size(): torch.Size([30, 8, 5, 192])\n",
      "q size: torch.Size([30, 8, 5, 64]), k size: torch.Size([30, 8, 5, 64]), v size: torch.Size([30, 8, 5, 64]), \n",
      "values.size(): torch.Size([30, 8, 5, 64]), attention.size:torch.Size([30, 8, 5, 5]) \n",
      "values.size(): torch.Size([30, 5, 512])\n",
      "out.size(): torch.Size([30, 5, 512])\n"
     ]
    }
   ],
   "source": [
    "out_mask = model.forward(x,mask=True)"
   ]
  },
  {
   "cell_type": "code",
   "execution_count": null,
   "id": "d84b9774-51f6-47c4-95ea-f1302bacebfc",
   "metadata": {},
   "outputs": [],
   "source": []
  }
 ],
 "metadata": {
  "kernelspec": {
   "display_name": "pytorch-gpu",
   "language": "python",
   "name": "pytorch-gpu"
  },
  "language_info": {
   "codemirror_mode": {
    "name": "ipython",
    "version": 3
   },
   "file_extension": ".py",
   "mimetype": "text/x-python",
   "name": "python",
   "nbconvert_exporter": "python",
   "pygments_lexer": "ipython3",
   "version": "3.8.5"
  }
 },
 "nbformat": 4,
 "nbformat_minor": 5
}
