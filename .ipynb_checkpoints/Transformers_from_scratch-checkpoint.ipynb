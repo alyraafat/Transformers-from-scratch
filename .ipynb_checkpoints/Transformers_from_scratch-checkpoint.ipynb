{
 "cells": [
  {
   "cell_type": "code",
   "execution_count": 2,
   "id": "c011a5fc-1544-4096-8646-bef11bd7622d",
   "metadata": {
    "tags": []
   },
   "outputs": [],
   "source": [
    "import numpy as np\n",
    "import math"
   ]
  },
  {
   "cell_type": "code",
   "execution_count": 3,
   "id": "cdde67a9-f029-495d-9df5-5709387cb2c9",
   "metadata": {},
   "outputs": [],
   "source": [
    "L, d_k, d_v = 4,8,8\n",
    "q = np.random.randn(L,d_k)\n",
    "k = np.random.randn(L,d_k)\n",
    "v = np.random.randn(L,d_v)"
   ]
  },
  {
   "cell_type": "code",
   "execution_count": 4,
   "id": "d4e9ffb4-4404-4755-8a67-630d59ae95f6",
   "metadata": {
    "tags": []
   },
   "outputs": [
    {
     "data": {
      "text/plain": [
       "array([[-1.43314657, -0.68958429, -0.86108124,  0.09508489,  1.4236755 ,\n",
       "        -0.18503826, -2.06543922, -0.72425694],\n",
       "       [ 0.01381426, -0.05797834,  0.17358011,  0.18137392,  1.40001165,\n",
       "        -1.11316294,  1.30004025, -1.4833429 ],\n",
       "       [ 1.2015744 ,  0.88562765, -1.26675785,  1.90983526,  1.51828946,\n",
       "        -0.6215344 , -0.84381093,  0.27898317],\n",
       "       [-0.50455575,  2.19433688, -1.04592851, -0.0990632 , -2.91957275,\n",
       "        -1.24198651, -0.4260315 ,  0.54103664]])"
      ]
     },
     "execution_count": 4,
     "metadata": {},
     "output_type": "execute_result"
    }
   ],
   "source": [
    "q"
   ]
  },
  {
   "cell_type": "code",
   "execution_count": 5,
   "id": "ee3b64e2-8d68-4259-b728-061ad07d4f59",
   "metadata": {
    "tags": []
   },
   "outputs": [
    {
     "data": {
      "text/plain": [
       "array([[-0.89573882,  0.59575872,  0.62932483,  1.3706639 ,  1.99202557,\n",
       "        -1.81906467,  0.59556153, -1.43379392],\n",
       "       [ 0.70779064, -0.98869881,  0.46194471,  0.3435982 ,  1.04767303,\n",
       "        -0.50423831, -0.84448408, -0.33698132],\n",
       "       [-1.21415259, -0.18845878, -0.56447991, -1.59124802,  0.28647738,\n",
       "         2.07454014, -0.57179019,  1.48130302],\n",
       "       [ 0.67573788, -0.20859519, -0.94975811,  0.71722781, -0.29003071,\n",
       "         1.12675774, -0.71884537, -0.08917012]])"
      ]
     },
     "execution_count": 5,
     "metadata": {},
     "output_type": "execute_result"
    }
   ],
   "source": [
    "k"
   ]
  },
  {
   "cell_type": "code",
   "execution_count": 6,
   "id": "047bce08-bfa5-4315-a7bc-1c38c14f4c5e",
   "metadata": {
    "tags": []
   },
   "outputs": [
    {
     "data": {
      "text/plain": [
       "array([[-1.05800722, -0.96276342, -0.95349055,  0.0885535 ,  1.96479734,\n",
       "        -0.71011295,  0.28629564,  1.98846157],\n",
       "       [ 0.43508605,  0.50894494,  0.26250843,  0.83530551, -0.35779131,\n",
       "        -0.87981717, -0.59658486,  1.56959687],\n",
       "       [-0.41695546, -0.52716846, -0.07328311,  0.58373222, -0.25523755,\n",
       "         2.34150665, -0.25622958,  1.02477756],\n",
       "       [-0.55918959, -0.07295214,  0.97466163,  0.21109998, -0.05923678,\n",
       "        -0.62107704, -1.1790067 , -0.12794776]])"
      ]
     },
     "execution_count": 6,
     "metadata": {},
     "output_type": "execute_result"
    }
   ],
   "source": [
    "v"
   ]
  },
  {
   "cell_type": "markdown",
   "id": "8b5031ec-6aee-44cf-846f-bdc997a342ff",
   "metadata": {},
   "source": [
    "# Self Attention"
   ]
  },
  {
   "cell_type": "code",
   "execution_count": 8,
   "id": "b16ddf12-b90e-4eb0-a454-8b120813d97c",
   "metadata": {
    "tags": []
   },
   "outputs": [
    {
     "data": {
      "text/plain": [
       "(1.3856409547521307, 1.0045444160234271, 13.552189614150734)"
      ]
     },
     "execution_count": 8,
     "metadata": {},
     "output_type": "execute_result"
    }
   ],
   "source": [
    "q.var(), k.var(), (q @ k.T).var()"
   ]
  },
  {
   "cell_type": "markdown",
   "id": "e4a4544a-73a8-4c8c-ad82-d05c5a976b94",
   "metadata": {},
   "source": [
    "as you can see the variance of the matrix-matrix multiplication is much higher than the varaince of each matrix on its own \n",
    "so that's why we need to scale the multiplication"
   ]
  },
  {
   "cell_type": "code",
   "execution_count": 9,
   "id": "d2448f94-d405-48ca-a3b9-27bf8a9c747b",
   "metadata": {
    "tags": []
   },
   "outputs": [
    {
     "data": {
      "text/plain": [
       "(1.3856409547521307, 1.0045444160234271, 1.6940237017688413)"
      ]
     },
     "execution_count": 9,
     "metadata": {},
     "output_type": "execute_result"
    }
   ],
   "source": [
    "scaled = (q @ k.T) / math.sqrt(d_k)\n",
    "q.var(), k.var(), scaled.var()"
   ]
  },
  {
   "cell_type": "markdown",
   "id": "d75eaed6-3ac2-47ed-a041-072af90187b6",
   "metadata": {},
   "source": [
    "## Masking"
   ]
  },
  {
   "cell_type": "code",
   "execution_count": 10,
   "id": "39e42551-3150-4ce3-95fa-f41fe0a9555a",
   "metadata": {
    "tags": []
   },
   "outputs": [
    {
     "data": {
      "text/plain": [
       "array([[1., 0., 0., 0.],\n",
       "       [1., 1., 0., 0.],\n",
       "       [1., 1., 1., 0.],\n",
       "       [1., 1., 1., 1.]])"
      ]
     },
     "execution_count": 10,
     "metadata": {},
     "output_type": "execute_result"
    }
   ],
   "source": [
    "mask = np.tril(np.ones((L,L)))\n",
    "mask"
   ]
  },
  {
   "cell_type": "code",
   "execution_count": 11,
   "id": "b78343ed-bc46-48a6-bb02-5587bd18ef65",
   "metadata": {
    "tags": []
   },
   "outputs": [],
   "source": [
    "mask[mask==0] = -np.infty\n",
    "mask[mask==1] = 0"
   ]
  },
  {
   "cell_type": "code",
   "execution_count": 12,
   "id": "9dff1c51-6dc6-4b9a-b7d5-a4e8e2c9fcda",
   "metadata": {
    "tags": []
   },
   "outputs": [
    {
     "data": {
      "text/plain": [
       "array([[  0., -inf, -inf, -inf],\n",
       "       [  0.,   0., -inf, -inf],\n",
       "       [  0.,   0.,   0., -inf],\n",
       "       [  0.,   0.,   0.,   0.]])"
      ]
     },
     "execution_count": 12,
     "metadata": {},
     "output_type": "execute_result"
    }
   ],
   "source": [
    "mask"
   ]
  },
  {
   "cell_type": "code",
   "execution_count": 13,
   "id": "faa915bb-5f33-4e58-9e22-f31d5b763505",
   "metadata": {
    "tags": []
   },
   "outputs": [
    {
     "data": {
      "text/plain": [
       "array([[ 1.21702355,        -inf,        -inf,        -inf],\n",
       "       [ 2.83753546,  0.57970533,        -inf,        -inf],\n",
       "       [ 1.59961718,  0.9081136 , -1.38185007,        -inf],\n",
       "       [-1.28015972, -1.87344409, -0.50232767, -0.06045517]])"
      ]
     },
     "execution_count": 13,
     "metadata": {},
     "output_type": "execute_result"
    }
   ],
   "source": [
    "scaled+mask"
   ]
  },
  {
   "cell_type": "markdown",
   "id": "1d9cd5af-43e1-4744-86dd-4e529f0c3346",
   "metadata": {},
   "source": [
    "## Softmax"
   ]
  },
  {
   "cell_type": "code",
   "execution_count": 31,
   "id": "13b04802-ee9a-493f-b63c-5d32f6427b78",
   "metadata": {
    "tags": []
   },
   "outputs": [
    {
     "data": {
      "text/plain": [
       "array([[ 3.40966096],\n",
       "       [ 0.68879402],\n",
       "       [ 2.05966313],\n",
       "       [-3.71638665]])"
      ]
     },
     "execution_count": 31,
     "metadata": {},
     "output_type": "execute_result"
    }
   ],
   "source": [
    "np.sum(scaled,axis=-1,keepdims=True)"
   ]
  },
  {
   "cell_type": "code",
   "execution_count": 28,
   "id": "7867f80f-1108-4feb-8a48-1ee839122f79",
   "metadata": {
    "tags": []
   },
   "outputs": [],
   "source": [
    "def softmax(x):\n",
    "    return np.exp(x)/np.sum(np.exp(x),axis=-1,keepdims=True)"
   ]
  },
  {
   "cell_type": "code",
   "execution_count": 35,
   "id": "f58d94fa-df91-4266-b792-c1429b6ba878",
   "metadata": {
    "tags": []
   },
   "outputs": [
    {
     "data": {
      "text/plain": [
       "array([[0.34304923, 0.28075445, 0.23207798, 0.14411834],\n",
       "       [0.87860741, 0.09188227, 0.00806653, 0.02144379],\n",
       "       [0.48417117, 0.2424838 , 0.02455637, 0.24878865],\n",
       "       [0.14053935, 0.07764935, 0.30591876, 0.47589254]])"
      ]
     },
     "execution_count": 35,
     "metadata": {},
     "output_type": "execute_result"
    }
   ],
   "source": [
    "attention_encoder = softmax(scaled)\n",
    "attention_encoder"
   ]
  },
  {
   "cell_type": "code",
   "execution_count": 36,
   "id": "7af00027-35e8-432b-8df8-a2d716a9021a",
   "metadata": {
    "tags": []
   },
   "outputs": [
    {
     "data": {
      "text/plain": [
       "array([[1.        , 0.        , 0.        , 0.        ],\n",
       "       [0.90532381, 0.09467619, 0.        , 0.        ],\n",
       "       [0.64452058, 0.32279039, 0.03268903, 0.        ],\n",
       "       [0.14053935, 0.07764935, 0.30591876, 0.47589254]])"
      ]
     },
     "execution_count": 36,
     "metadata": {},
     "output_type": "execute_result"
    }
   ],
   "source": [
    "attention_decoder = softmax(scaled+mask)\n",
    "attention_decoder"
   ]
  },
  {
   "cell_type": "code",
   "execution_count": 37,
   "id": "a810a60d-c592-492c-a305-4a8da5f20cd4",
   "metadata": {
    "tags": []
   },
   "outputs": [
    {
     "data": {
      "text/plain": [
       "array([[-1.05800722, -0.96276342, -0.95349055,  0.0885535 ,  1.96479734,\n",
       "        -0.71011295,  0.28629564,  1.98846157],\n",
       "       [-0.91664684, -0.82342767, -0.8383644 ,  0.15925314,  1.74490349,\n",
       "        -0.7261799 ,  0.20270788,  1.94880505],\n",
       "       [-0.5550957 , -0.47347093, -0.53220464,  0.34578479,  1.14251726,\n",
       "        -0.66513736, -0.01642433,  1.82175417],\n",
       "       [-0.50857615, -0.291775  ,  0.32779619,  0.35634172,  0.14207678,\n",
       "         0.25262883, -0.64555455,  0.65394457]])"
      ]
     },
     "execution_count": 37,
     "metadata": {},
     "output_type": "execute_result"
    }
   ],
   "source": [
    "self_attention = attention_decoder @ v\n",
    "self_attention"
   ]
  },
  {
   "cell_type": "markdown",
   "id": "6b773eab-c179-42a2-93ca-2ac33d1d3d37",
   "metadata": {},
   "source": [
    "## Let's pipeline it into a function"
   ]
  },
  {
   "cell_type": "code",
   "execution_count": 46,
   "id": "ec3e6bea-980b-4129-9520-56d7a3472df0",
   "metadata": {
    "tags": []
   },
   "outputs": [],
   "source": [
    "def softmax(x):\n",
    "    return np.exp(x)/np.sum(np.exp(x),axis=-1,keepdims=True)\n",
    "\n",
    "def scaled_dot_product_attention(q,k,v,mask=False):\n",
    "    L,d_k = k.shape\n",
    "    scaled = (q @ k.T) / math.sqrt(d_k)\n",
    "    if mask:\n",
    "        mask_mat = np.tril(np.ones((L,L)))\n",
    "        mask_mat[mask_mat==0] = -np.infty\n",
    "        mask_mat[mask_mat==1] = 0\n",
    "        scaled += mask_mat\n",
    "    return softmax(scaled) @ v"
   ]
  },
  {
   "cell_type": "code",
   "execution_count": 47,
   "id": "796d7e06-8ec6-4113-b301-3aa7e270584d",
   "metadata": {
    "tags": []
   },
   "outputs": [
    {
     "data": {
      "text/plain": [
       "array([[-0.41815188, -0.32024463, -0.12993457,  0.43078872,  0.50579859,\n",
       "        -0.03671273, -0.29866209,  1.3422002 ],\n",
       "       [-0.90495082, -0.80494485, -0.7933147 ,  0.163789  ,  1.69008169,\n",
       "        -0.69918051,  0.16937664,  1.8968179 ],\n",
       "       [-0.55611421, -0.3738264 , -0.15731342,  0.31227673,  0.84353449,\n",
       "        -0.65417565, -0.30566163,  1.33669046],\n",
       "       [-0.50857615, -0.291775  ,  0.32779619,  0.35634172,  0.14207678,\n",
       "         0.25262883, -0.64555455,  0.65394457]])"
      ]
     },
     "execution_count": 47,
     "metadata": {},
     "output_type": "execute_result"
    }
   ],
   "source": [
    "self_attention_func_encoder = scaled_dot_product_attention(q,k,v)\n",
    "self_attention_func_encoder"
   ]
  },
  {
   "cell_type": "code",
   "execution_count": 48,
   "id": "545b6bb7-c2d2-45f5-9b61-ae9efee360a1",
   "metadata": {
    "tags": []
   },
   "outputs": [
    {
     "data": {
      "text/plain": [
       "array([[ True,  True,  True,  True,  True,  True,  True,  True],\n",
       "       [ True,  True,  True,  True,  True,  True,  True,  True],\n",
       "       [ True,  True,  True,  True,  True,  True,  True,  True],\n",
       "       [ True,  True,  True,  True,  True,  True,  True,  True]])"
      ]
     },
     "execution_count": 48,
     "metadata": {},
     "output_type": "execute_result"
    }
   ],
   "source": [
    "self_attention_func_encoder == attention_encoder @ v"
   ]
  },
  {
   "cell_type": "code",
   "execution_count": 49,
   "id": "d61e66a0-c8c2-4c72-bb0b-129ad3a1104e",
   "metadata": {
    "tags": []
   },
   "outputs": [
    {
     "data": {
      "text/plain": [
       "array([[-1.05800722, -0.96276342, -0.95349055,  0.0885535 ,  1.96479734,\n",
       "        -0.71011295,  0.28629564,  1.98846157],\n",
       "       [-0.91664684, -0.82342767, -0.8383644 ,  0.15925314,  1.74490349,\n",
       "        -0.7261799 ,  0.20270788,  1.94880505],\n",
       "       [-0.5550957 , -0.47347093, -0.53220464,  0.34578479,  1.14251726,\n",
       "        -0.66513736, -0.01642433,  1.82175417],\n",
       "       [-0.50857615, -0.291775  ,  0.32779619,  0.35634172,  0.14207678,\n",
       "         0.25262883, -0.64555455,  0.65394457]])"
      ]
     },
     "execution_count": 49,
     "metadata": {},
     "output_type": "execute_result"
    }
   ],
   "source": [
    "self_attention_func_decoder = scaled_dot_product_attention(q,k,v,mask=True)\n",
    "self_attention_func_decoder"
   ]
  },
  {
   "cell_type": "code",
   "execution_count": 50,
   "id": "bbaacaca-dc12-4664-a0e8-fc7954274836",
   "metadata": {
    "tags": []
   },
   "outputs": [
    {
     "data": {
      "text/plain": [
       "array([[ True,  True,  True,  True,  True,  True,  True,  True],\n",
       "       [ True,  True,  True,  True,  True,  True,  True,  True],\n",
       "       [ True,  True,  True,  True,  True,  True,  True,  True],\n",
       "       [ True,  True,  True,  True,  True,  True,  True,  True]])"
      ]
     },
     "execution_count": 50,
     "metadata": {},
     "output_type": "execute_result"
    }
   ],
   "source": [
    "self_attention_func_decoder == attention_decoder @ v"
   ]
  },
  {
   "cell_type": "code",
   "execution_count": null,
   "id": "e812e15f-9ae1-44c6-ac6f-3dfff1c68846",
   "metadata": {},
   "outputs": [],
   "source": []
  }
 ],
 "metadata": {
  "kernelspec": {
   "display_name": "pytorch-gpu",
   "language": "python",
   "name": "pytorch-gpu"
  },
  "language_info": {
   "codemirror_mode": {
    "name": "ipython",
    "version": 3
   },
   "file_extension": ".py",
   "mimetype": "text/x-python",
   "name": "python",
   "nbconvert_exporter": "python",
   "pygments_lexer": "ipython3",
   "version": "3.8.5"
  }
 },
 "nbformat": 4,
 "nbformat_minor": 5
}
